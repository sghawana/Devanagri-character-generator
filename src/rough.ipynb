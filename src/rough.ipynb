{
 "cells": [
  {
   "cell_type": "code",
   "execution_count": 1,
   "metadata": {},
   "outputs": [],
   "source": [
    "import torch\n",
    "import torch.nn as nn\n",
    "import torch.nn.functional as F\n",
    "\n"
   ]
  },
  {
   "cell_type": "code",
   "execution_count": 2,
   "metadata": {},
   "outputs": [],
   "source": [
    "DEVICE = torch.device('cuda' if torch.cuda.is_available() else 'cpu')\n",
    "DTYPE = torch.float32"
   ]
  },
  {
   "cell_type": "code",
   "execution_count": null,
   "metadata": {},
   "outputs": [],
   "source": [
    "cnn_generator_params = {'activation': 'relu',\n",
    "                        'device': DEVICE,\n",
    "                        'dtype': DTYPE,\n",
    "                        'output_padding': 0}"
   ]
  },
  {
   "cell_type": "code",
   "execution_count": null,
   "metadata": {},
   "outputs": [],
   "source": [
    "class Generator_CNN(nn.Module):\n",
    "    def __init__(self, activation, device, dtype, output_padding):\n",
    "        super().__init__()\n",
    "        self.activation = activation\n",
    "        self.device = device\n",
    "        self.dtype = dtype\n",
    "        self.output_padding = output_padding\n",
    "        \n",
    "        ## out = (in-1)*stride + kernel\n",
    "        ## 3 --> 7 --> 15 --> 22 --> 28/32\n",
    "        self.conv1 = nn.Conv2D(in_channels=1, out_channels=4, kernel_size=3, stride=2)\n",
    "        self.conv2 = nn.Conv2D(in_channels=4, out_channels=4, kernel_size=3, stride=2)\n",
    "        self.conv3 = nn.Conv2D(in_channels=4, out_channels=2, kernel_size=7, stride=1)\n",
    "        self.conv4 = nn.Conv2D(in_channels=2, out_channels=1, kernel_size=7, stride=1, output_padding=self.output_padding)\n",
    "\n",
    "    def activation(self, x):\n",
    "        if self.activation == 'relu':\n",
    "            return F.relu(x)\n",
    "        elif self.activation == 'sigmoid':\n",
    "            return F.sigmoid(x)\n",
    "        elif self.activation == 'tanh':\n",
    "            return F.tanh(x)\n",
    "        \n",
    "    def forward(self, x):\n",
    "        x = self.conv1(x)\n",
    "        x = self.activation(x)\n",
    "        x = self.conv2(x)\n",
    "        x = self.activation(x)\n",
    "        x = self.conv2(x)\n",
    "        x = self.activation(x)\n",
    "        x = self.conv3(x)\n",
    "        return x\n",
    "        "
   ]
  },
  {
   "cell_type": "code",
   "execution_count": null,
   "metadata": {},
   "outputs": [],
   "source": [
    "class Discriminator_CNN(nn.Module):\n",
    "    def __init__(self, activation, device, dtype, output_padding):\n",
    "        super().__init__()\n",
    "        self.activation = activation\n",
    "        self.device = device\n",
    "        self.dtype = dtype\n",
    "        self.output_padding = output_padding\n",
    "        \n",
    "        ## out = (in-1)*stride + kernel\n",
    "        ## 3 --> 7 --> 15 --> 22 --> 28/32\n",
    "        self.conv1 = nn.Conv2D(in_channels=1, out_channels=4, kernel_size=3, stride=2)\n",
    "        self.conv2 = nn.Conv2D(in_channels=4, out_channels=4, kernel_size=3, stride=2)\n",
    "        self.conv3 = nn.Conv2D(in_channels=4, out_channels=2, kernel_size=7, stride=1)\n",
    "        self.conv4 = nn.Conv2D(in_channels=2, out_channels=1, kernel_size=7, stride=1, output_padding=self.output_padding)\n",
    "\n",
    "    def activation(self, x):\n",
    "        if self.activation == 'relu':\n",
    "            return F.relu(x)\n",
    "        elif self.activation == 'sigmoid':\n",
    "            return F.sigmoid(x)\n",
    "        elif self.activation == 'tanh':\n",
    "            return F.tanh(x)\n",
    "        \n",
    "    def forward(self, x):\n",
    "        x = self.conv1(x)\n",
    "        x = self.activation(x)\n",
    "        x = self.conv2(x)\n",
    "        x = self.activation(x)\n",
    "        x = self.conv2(x)\n",
    "        x = self.activation(x)\n",
    "        x = self.conv3(x)\n",
    "        return x\n",
    "        "
   ]
  }
 ],
 "metadata": {
  "kernelspec": {
   "display_name": "MUL",
   "language": "python",
   "name": "python3"
  },
  "language_info": {
   "codemirror_mode": {
    "name": "ipython",
    "version": 3
   },
   "file_extension": ".py",
   "mimetype": "text/x-python",
   "name": "python",
   "nbconvert_exporter": "python",
   "pygments_lexer": "ipython3",
   "version": "3.12.4"
  }
 },
 "nbformat": 4,
 "nbformat_minor": 2
}
